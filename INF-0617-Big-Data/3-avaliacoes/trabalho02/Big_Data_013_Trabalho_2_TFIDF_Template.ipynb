{
  "nbformat": 4,
  "nbformat_minor": 0,
  "metadata": {
    "colab": {
      "provenance": [],
      "collapsed_sections": [],
      "include_colab_link": true
    },
    "kernelspec": {
      "name": "python3",
      "display_name": "Python 3"
    }
  },
  "cells": [
    {
      "cell_type": "markdown",
      "metadata": {
        "id": "view-in-github",
        "colab_type": "text"
      },
      "source": [
        "<a href=\"https://colab.research.google.com/github/mafda/augmented_reality_101/blob/master/INF-0617-Big-Data/3-avaliacoes/trabalho02/Big_Data_013_Trabalho_2_TFIDF_Template.ipynb\" target=\"_parent\"><img src=\"https://colab.research.google.com/assets/colab-badge.svg\" alt=\"Open In Colab\"/></a>"
      ]
    },
    {
      "cell_type": "markdown",
      "metadata": {
        "id": "pZrBq6MYZx-h"
      },
      "source": [
        "# Dados de Entrada\n",
        "* Link: https://tinyurl.com/bigdata-gut-pt\n",
        "* Selecione \"Adicionar ao Drive\"\n",
        "\n",
        "\n",
        "\n"
      ]
    },
    {
      "cell_type": "markdown",
      "metadata": {
        "id": "qKUDHjlNvN1p"
      },
      "source": [
        "# Setup"
      ]
    },
    {
      "cell_type": "code",
      "metadata": {
        "id": "SAgm1b_iEW9l"
      },
      "source": [
        "from google.colab import drive\n",
        "drive.mount('/content/drive')"
      ],
      "execution_count": null,
      "outputs": []
    },
    {
      "cell_type": "code",
      "metadata": {
        "id": "io8C2VOBrhXI"
      },
      "source": [
        "!wget -q https://downloads.apache.org/spark/spark-3.2.2/spark-3.2.2-bin-hadoop3.2.tgz\n",
        "!tar xf spark-3.2.2-bin-hadoop3.2.tgz\n",
        "!pip install findspark pyspark "
      ],
      "execution_count": null,
      "outputs": []
    },
    {
      "cell_type": "code",
      "metadata": {
        "id": "o636IcyBGXA8"
      },
      "source": [
        "%env PYTHONHASHSEED=1234\n",
        "%env JAVA_HOME=/usr/lib/jvm/default-java\n",
        "%env SPARK_HOME=/content/spark-3.2.2-bin-hadoop3.2"
      ],
      "execution_count": null,
      "outputs": []
    },
    {
      "cell_type": "code",
      "metadata": {
        "id": "W0gLXPcaY8L6"
      },
      "source": [
        "import findspark\n",
        "findspark.init(\"/content/spark-3.2.2-bin-hadoop3.2\")"
      ],
      "execution_count": null,
      "outputs": []
    },
    {
      "cell_type": "code",
      "metadata": {
        "id": "umR86cbmZAQv"
      },
      "source": [
        "from pyspark.sql import SparkSession\n",
        "\n",
        "from datetime import datetime\n",
        "\n",
        "appName = 'Big Data'\n",
        "master = 'local'\n",
        "\n",
        "spark = SparkSession.builder     \\\n",
        "    .master(master) \\\n",
        "    .appName(appName) \\\n",
        "    .getOrCreate()\n",
        "\n",
        "spark.sparkContext.setLogLevel(\"WARN\")"
      ],
      "execution_count": null,
      "outputs": []
    },
    {
      "cell_type": "markdown",
      "source": [
        "# Entradas de teste e validação\n",
        "\n",
        "Os comandos abaixo criam duas entradas para desenvolvimento e validação no diretório `entradas_teste`:\n",
        "\n",
        "*   Arquivo A.txt: \"Um carro está dirigindo na rua.\"\n",
        "*   Arquivo B.txt: \"Um caminhão está dirigindo na rodovia.\"\n",
        "*   Arquivo C.txt: \"Um motorista encontrou com outro motorista.\"\n",
        "\n",
        "O resultado esperado para a etapa de cálculo de TF para estes arquivos é:\n",
        "\n",
        "```\n",
        "[(('A.txt', 'um'), 0.16666666666666666),\n",
        " (('A.txt', 'carro'), 0.16666666666666666),\n",
        " (('A.txt', 'está'), 0.16666666666666666),\n",
        " (('A.txt', 'dirigindo'), 0.16666666666666666),\n",
        " (('A.txt', 'na'), 0.16666666666666666),\n",
        " (('A.txt', 'rua'), 0.16666666666666666),\n",
        " (('B.txt', 'um'), 0.16666666666666666),\n",
        " (('B.txt', 'caminhão'), 0.16666666666666666),\n",
        " (('B.txt', 'está'), 0.16666666666666666),\n",
        " (('B.txt', 'dirigindo'), 0.16666666666666666),\n",
        " (('B.txt', 'na'), 0.16666666666666666),\n",
        " (('B.txt', 'rodovia'), 0.16666666666666666),\n",
        " (('C.txt', 'um'), 0.16666666666666666),\n",
        " (('C.txt', 'motorista'), 0.3333333333333333),\n",
        " (('C.txt', 'encontrou'), 0.16666666666666666),\n",
        " (('C.txt', 'com'), 0.16666666666666666),\n",
        " (('C.txt', 'outro'), 0.16666666666666666)]\n",
        " ```\n",
        "\n",
        " O resultado esperado para o cálculo de IDF é:\n",
        "\n",
        "````\n",
        "[('um', 0.0),\n",
        " ('carro', 1.0986122886681098),\n",
        " ('está', 0.4054651081081644),\n",
        " ('dirigindo', 0.4054651081081644),\n",
        " ('na', 0.4054651081081644),\n",
        " ('rua', 1.0986122886681098),\n",
        " ('caminhão', 1.0986122886681098),\n",
        " ('rodovia', 1.0986122886681098),\n",
        " ('motorista', 1.0986122886681098),\n",
        " ('encontrou', 1.0986122886681098),\n",
        " ('com', 1.0986122886681098),\n",
        " ('outro', 1.0986122886681098)]\n",
        " ````\n",
        "\n",
        "Finalmente, o resultado final (TD IDF ordenado) esperado é:\n",
        "\n",
        "```\n",
        "[(('C.txt', 'motorista'), 0.37),\n",
        " (('B.txt', 'caminhão'), 0.18),\n",
        " (('B.txt', 'rodovia'), 0.18),\n",
        " (('C.txt', 'encontrou'), 0.18),\n",
        " (('C.txt', 'com'), 0.18),\n",
        " (('C.txt', 'outro'), 0.18),\n",
        " (('A.txt', 'carro'), 0.18),\n",
        " (('A.txt', 'rua'), 0.18),\n",
        " (('A.txt', 'está'), 0.07),\n",
        " (('B.txt', 'está'), 0.07),\n",
        " (('A.txt', 'dirigindo'), 0.07),\n",
        " (('B.txt', 'dirigindo'), 0.07),\n",
        " (('A.txt', 'na'), 0.07),\n",
        " (('B.txt', 'na'), 0.07),\n",
        " (('A.txt', 'um'), 0.0),\n",
        " (('B.txt', 'um'), 0.0),\n",
        " (('C.txt', 'um'), 0.0)]\n",
        "```\n",
        "\n",
        "Use estas entradas para desenvolvimento, testes, e validação. Para a solução final, processe todos os arquivos no diretório `all` do pacote de dados.\n"
      ],
      "metadata": {
        "id": "8N9zp-0pmJEj"
      }
    },
    {
      "cell_type": "code",
      "source": [
        "!mkdir entradas_teste"
      ],
      "metadata": {
        "id": "xhnasJeFIMP6"
      },
      "execution_count": null,
      "outputs": []
    },
    {
      "cell_type": "code",
      "source": [
        "!rm entradas_teste/*"
      ],
      "metadata": {
        "id": "qF8tdmE3fz4R"
      },
      "execution_count": null,
      "outputs": []
    },
    {
      "cell_type": "code",
      "source": [
        "!echo \"Um carro está dirigindo na rua.\" >> entradas_teste/A.txt"
      ],
      "metadata": {
        "id": "RsImx0Foe72L"
      },
      "execution_count": null,
      "outputs": []
    },
    {
      "cell_type": "code",
      "source": [
        "!echo \"Um caminhão está dirigindo na rodovia.\" >> entradas_teste/B.txt"
      ],
      "metadata": {
        "id": "By7CBb75fAIv"
      },
      "execution_count": null,
      "outputs": []
    },
    {
      "cell_type": "code",
      "source": [
        "!echo \"Um motorista encontrou com outro motorista.\" >> entradas_teste/C.txt"
      ],
      "metadata": {
        "id": "9tJakBvu5F_y"
      },
      "execution_count": null,
      "outputs": []
    },
    {
      "cell_type": "markdown",
      "source": [
        "# Solução"
      ],
      "metadata": {
        "id": "vCld0ByDIM1c"
      }
    },
    {
      "cell_type": "code",
      "source": [
        "# Conjunto completo (para solução final)\n",
        "# input_dir = 'file:/content/drive/My Drive/gut-pt/all/'"
      ],
      "metadata": {
        "id": "L5haJj2U-0D_"
      },
      "execution_count": null,
      "outputs": []
    },
    {
      "cell_type": "code",
      "source": [
        "# Conjunto menor (para desenvolvimento)\n",
        "# input_dir = 'file:/content/drive/My Drive/gut-pt/small/'"
      ],
      "metadata": {
        "id": "kD6qEFFP-AYK"
      },
      "execution_count": null,
      "outputs": []
    },
    {
      "cell_type": "code",
      "source": [
        "# Entradas teste (para testes e verificação)\n",
        "input_dir = 'file:/content/entradas_teste/'"
      ],
      "metadata": {
        "id": "K8VrNvNjfG5J"
      },
      "execution_count": null,
      "outputs": []
    },
    {
      "cell_type": "code",
      "source": [
        "input_files = spark.sparkContext.wholeTextFiles(input_dir+\"*\")\n"
      ],
      "metadata": {
        "id": "TD_fGNDXcxMF"
      },
      "execution_count": null,
      "outputs": []
    },
    {
      "cell_type": "code",
      "source": [
        "input_files.take(3)"
      ],
      "metadata": {
        "id": "lYV-sfHedrgr"
      },
      "execution_count": null,
      "outputs": []
    },
    {
      "cell_type": "code",
      "source": [],
      "metadata": {
        "id": "R-0AbnBc_o6d"
      },
      "execution_count": null,
      "outputs": []
    }
  ]
}